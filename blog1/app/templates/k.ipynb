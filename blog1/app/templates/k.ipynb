{
 "cells": [
  {
   "cell_type": "code",
   "execution_count": 29,
   "metadata": {
    "collapsed": true,
    "pycharm": {
     "name": "#%%\n"
    }
   },
   "outputs": [],
   "source": [
    "import pandas as pd\n",
    "import numpy as np\n",
    "import matplotlib.pyplot as plt\n",
    "import seaborn as sns"
   ]
  },
  {
   "cell_type": "code",
   "execution_count": 27,
   "outputs": [
    {
     "data": {
      "text/plain": "   PassengerId  Survived  Pclass  \\\n0            1         0       3   \n1            2         1       1   \n2            3         1       3   \n3            4         1       1   \n4            5         0       3   \n\n                                                Name     Sex   Age  SibSp  \\\n0                            Braund, Mr. Owen Harris    male  22.0      1   \n1  Cumings, Mrs. John Bradley (Florence Briggs Th...  female  38.0      1   \n2                             Heikkinen, Miss. Laina  female  26.0      0   \n3       Futrelle, Mrs. Jacques Heath (Lily May Peel)  female  35.0      1   \n4                           Allen, Mr. William Henry    male  35.0      0   \n\n   Parch            Ticket     Fare Cabin Embarked  \n0      0         A/5 21171   7.2500   NaN        S  \n1      0          PC 17599  71.2833   C85        C  \n2      0  STON/O2. 3101282   7.9250   NaN        S  \n3      0            113803  53.1000  C123        S  \n4      0            373450   8.0500   NaN        S  ",
      "text/html": "<div>\n<style scoped>\n    .dataframe tbody tr th:only-of-type {\n        vertical-align: middle;\n    }\n\n    .dataframe tbody tr th {\n        vertical-align: top;\n    }\n\n    .dataframe thead th {\n        text-align: right;\n    }\n</style>\n<table border=\"1\" class=\"dataframe\">\n  <thead>\n    <tr style=\"text-align: right;\">\n      <th></th>\n      <th>PassengerId</th>\n      <th>Survived</th>\n      <th>Pclass</th>\n      <th>Name</th>\n      <th>Sex</th>\n      <th>Age</th>\n      <th>SibSp</th>\n      <th>Parch</th>\n      <th>Ticket</th>\n      <th>Fare</th>\n      <th>Cabin</th>\n      <th>Embarked</th>\n    </tr>\n  </thead>\n  <tbody>\n    <tr>\n      <th>0</th>\n      <td>1</td>\n      <td>0</td>\n      <td>3</td>\n      <td>Braund, Mr. Owen Harris</td>\n      <td>male</td>\n      <td>22.0</td>\n      <td>1</td>\n      <td>0</td>\n      <td>A/5 21171</td>\n      <td>7.2500</td>\n      <td>NaN</td>\n      <td>S</td>\n    </tr>\n    <tr>\n      <th>1</th>\n      <td>2</td>\n      <td>1</td>\n      <td>1</td>\n      <td>Cumings, Mrs. John Bradley (Florence Briggs Th...</td>\n      <td>female</td>\n      <td>38.0</td>\n      <td>1</td>\n      <td>0</td>\n      <td>PC 17599</td>\n      <td>71.2833</td>\n      <td>C85</td>\n      <td>C</td>\n    </tr>\n    <tr>\n      <th>2</th>\n      <td>3</td>\n      <td>1</td>\n      <td>3</td>\n      <td>Heikkinen, Miss. Laina</td>\n      <td>female</td>\n      <td>26.0</td>\n      <td>0</td>\n      <td>0</td>\n      <td>STON/O2. 3101282</td>\n      <td>7.9250</td>\n      <td>NaN</td>\n      <td>S</td>\n    </tr>\n    <tr>\n      <th>3</th>\n      <td>4</td>\n      <td>1</td>\n      <td>1</td>\n      <td>Futrelle, Mrs. Jacques Heath (Lily May Peel)</td>\n      <td>female</td>\n      <td>35.0</td>\n      <td>1</td>\n      <td>0</td>\n      <td>113803</td>\n      <td>53.1000</td>\n      <td>C123</td>\n      <td>S</td>\n    </tr>\n    <tr>\n      <th>4</th>\n      <td>5</td>\n      <td>0</td>\n      <td>3</td>\n      <td>Allen, Mr. William Henry</td>\n      <td>male</td>\n      <td>35.0</td>\n      <td>0</td>\n      <td>0</td>\n      <td>373450</td>\n      <td>8.0500</td>\n      <td>NaN</td>\n      <td>S</td>\n    </tr>\n  </tbody>\n</table>\n</div>"
     },
     "execution_count": 27,
     "metadata": {},
     "output_type": "execute_result"
    }
   ],
   "source": [
    "pd.read_csv('../../datasets/titanic.csv').head()"
   ],
   "metadata": {
    "collapsed": false,
    "pycharm": {
     "name": "#%%\n"
    }
   }
  },
  {
   "cell_type": "code",
   "execution_count": 39,
   "outputs": [
    {
     "name": "stderr",
     "output_type": "stream",
     "text": [
      "C:\\Users\\harik\\lib\\site-packages\\seaborn\\_decorators.py:36: FutureWarning: Pass the following variable as a keyword arg: x. From version 0.12, the only valid positional argument will be `data`, and passing other arguments without an explicit keyword will result in an error or misinterpretation.\n",
      "  warnings.warn(\n"
     ]
    },
    {
     "data": {
      "text/plain": "<AxesSubplot:xlabel='Pclass', ylabel='count'>"
     },
     "execution_count": 39,
     "metadata": {},
     "output_type": "execute_result"
    },
    {
     "data": {
      "text/plain": "<Figure size 432x288 with 1 Axes>",
      "image/png": "[encoded data removed]"
     },
     "metadata": {
      "needs_background": "light"
     },
     "output_type": "display_data"
    }
   ],
   "source": [
    "sns.countplot(df.Pclass,hue=df.Survived)"
   ],
   "metadata": {
    "collapsed": false,
    "pycharm": {
     "name": "#%%\n"
    }
   }
  },
  {
   "cell_type": "code",
   "execution_count": 101,
   "outputs": [
    {
     "data": {
      "text/plain": "   Survived  Pclass   Sex   Age\n0         0       3  male  22.0",
      "text/html": "<div>\n<style scoped>\n    .dataframe tbody tr th:only-of-type {\n        vertical-align: middle;\n    }\n\n    .dataframe tbody tr th {\n        vertical-align: top;\n    }\n\n    .dataframe thead th {\n        text-align: right;\n    }\n</style>\n<table border=\"1\" class=\"dataframe\">\n  <thead>\n    <tr style=\"text-align: right;\">\n      <th></th>\n      <th>Survived</th>\n      <th>Pclass</th>\n      <th>Sex</th>\n      <th>Age</th>\n    </tr>\n  </thead>\n  <tbody>\n    <tr>\n      <th>0</th>\n      <td>0</td>\n      <td>3</td>\n      <td>male</td>\n      <td>22.0</td>\n    </tr>\n  </tbody>\n</table>\n</div>"
     },
     "execution_count": 101,
     "metadata": {},
     "output_type": "execute_result"
    }
   ],
   "source": [
    "df = pd.read_csv('../../datasets/titanic.csv',usecols=['Sex','Age','Survived','Pclass'])\n",
    "df.head(1)"
   ],
   "metadata": {
    "collapsed": false,
    "pycharm": {
     "name": "#%%\n"
    }
   }
  },
  {
   "cell_type": "code",
   "execution_count": 22,
   "outputs": [
    {
     "data": {
      "text/plain": "Survived    0\nPclass      0\nSex         0\nAge         0\ndtype: int64"
     },
     "execution_count": 22,
     "metadata": {},
     "output_type": "execute_result"
    }
   ],
   "source": [
    "df.dropna(inplace=True)\n",
    "df.isnull().sum()"
   ],
   "metadata": {
    "collapsed": false,
    "pycharm": {
     "name": "#%%\n"
    }
   }
  },
  {
   "cell_type": "code",
   "execution_count": 23,
   "outputs": [
    {
     "data": {
      "text/plain": "array(['male', 'female'], dtype=object)"
     },
     "execution_count": 23,
     "metadata": {},
     "output_type": "execute_result"
    }
   ],
   "source": [
    "df.Sex.unique()"
   ],
   "metadata": {
    "collapsed": false,
    "pycharm": {
     "name": "#%%\n"
    }
   }
  },
  {
   "cell_type": "code",
   "execution_count": 24,
   "outputs": [],
   "source": [
    "def gen(x):\n",
    "    if x == 'male':\n",
    "        return 0\n",
    "    else:\n",
    "        return 1"
   ],
   "metadata": {
    "collapsed": false,
    "pycharm": {
     "name": "#%%\n"
    }
   }
  },
  {
   "cell_type": "code",
   "execution_count": 43,
   "outputs": [],
   "source": [
    "df.Sex = df.Sex.apply(lambda x : 1 if \"male\" else 0)"
   ],
   "metadata": {
    "collapsed": false,
    "pycharm": {
     "name": "#%%\n"
    }
   }
  },
  {
   "cell_type": "code",
   "execution_count": 44,
   "outputs": [
    {
     "data": {
      "text/plain": "   Survived  Pclass  Sex   Age\n0         0       3    1  22.0\n1         1       1    1  38.0\n2         1       3    1  26.0\n3         1       1    1  35.0\n4         0       3    1  35.0",
      "text/html": "<div>\n<style scoped>\n    .dataframe tbody tr th:only-of-type {\n        vertical-align: middle;\n    }\n\n    .dataframe tbody tr th {\n        vertical-align: top;\n    }\n\n    .dataframe thead th {\n        text-align: right;\n    }\n</style>\n<table border=\"1\" class=\"dataframe\">\n  <thead>\n    <tr style=\"text-align: right;\">\n      <th></th>\n      <th>Survived</th>\n      <th>Pclass</th>\n      <th>Sex</th>\n      <th>Age</th>\n    </tr>\n  </thead>\n  <tbody>\n    <tr>\n      <th>0</th>\n      <td>0</td>\n      <td>3</td>\n      <td>1</td>\n      <td>22.0</td>\n    </tr>\n    <tr>\n      <th>1</th>\n      <td>1</td>\n      <td>1</td>\n      <td>1</td>\n      <td>38.0</td>\n    </tr>\n    <tr>\n      <th>2</th>\n      <td>1</td>\n      <td>3</td>\n      <td>1</td>\n      <td>26.0</td>\n    </tr>\n    <tr>\n      <th>3</th>\n      <td>1</td>\n      <td>1</td>\n      <td>1</td>\n      <td>35.0</td>\n    </tr>\n    <tr>\n      <th>4</th>\n      <td>0</td>\n      <td>3</td>\n      <td>1</td>\n      <td>35.0</td>\n    </tr>\n  </tbody>\n</table>\n</div>"
     },
     "execution_count": 44,
     "metadata": {},
     "output_type": "execute_result"
    }
   ],
   "source": [
    "df.head()"
   ],
   "metadata": {
    "collapsed": false,
    "pycharm": {
     "name": "#%%\n"
    }
   }
  },
  {
   "cell_type": "code",
   "execution_count": 45,
   "outputs": [
    {
     "data": {
      "text/plain": "Survived    0\nPclass      0\nSex         0\nAge         0\ndtype: int64"
     },
     "execution_count": 45,
     "metadata": {},
     "output_type": "execute_result"
    }
   ],
   "source": [
    "df.isnull().sum()"
   ],
   "metadata": {
    "collapsed": false,
    "pycharm": {
     "name": "#%%\n"
    }
   }
  },
  {
   "cell_type": "code",
   "execution_count": 46,
   "outputs": [
    {
     "ename": "ValueError",
     "evalue": "Found input variables with inconsistent numbers of samples: [712, 714]",
     "output_type": "error",
     "traceback": [
      "\u001B[1;31m---------------------------------------------------------------------------\u001B[0m",
      "\u001B[1;31mValueError\u001B[0m                                Traceback (most recent call last)",
      "Input \u001B[1;32mIn [46]\u001B[0m, in \u001B[0;36m<cell line: 2>\u001B[1;34m()\u001B[0m\n\u001B[0;32m      1\u001B[0m \u001B[38;5;28;01mfrom\u001B[39;00m \u001B[38;5;21;01msklearn\u001B[39;00m\u001B[38;5;21;01m.\u001B[39;00m\u001B[38;5;21;01mmodel_selection\u001B[39;00m \u001B[38;5;28;01mimport\u001B[39;00m train_test_split\n\u001B[1;32m----> 2\u001B[0m x_train,y_train,x_test,y_test \u001B[38;5;241m=\u001B[39m \u001B[43mtrain_test_split\u001B[49m\u001B[43m(\u001B[49m\u001B[43mdf\u001B[49m\u001B[38;5;241;43m.\u001B[39;49m\u001B[43mdrop\u001B[49m\u001B[43m(\u001B[49m\u001B[43mdf\u001B[49m\u001B[38;5;241;43m.\u001B[39;49m\u001B[43mSurvived\u001B[49m\u001B[43m)\u001B[49m\u001B[43m,\u001B[49m\u001B[43mdf\u001B[49m\u001B[38;5;241;43m.\u001B[39;49m\u001B[43mSurvived\u001B[49m\u001B[43m,\u001B[49m\u001B[43mtest_size\u001B[49m\u001B[38;5;241;43m=\u001B[39;49m\u001B[38;5;241;43m.2\u001B[39;49m\u001B[43m,\u001B[49m\u001B[43mrandom_state\u001B[49m\u001B[38;5;241;43m=\u001B[39;49m\u001B[38;5;241;43m42\u001B[39;49m\u001B[43m)\u001B[49m\n",
      "File \u001B[1;32m~\\lib\\site-packages\\sklearn\\model_selection\\_split.py:2430\u001B[0m, in \u001B[0;36mtrain_test_split\u001B[1;34m(test_size, train_size, random_state, shuffle, stratify, *arrays)\u001B[0m\n\u001B[0;32m   2427\u001B[0m \u001B[38;5;28;01mif\u001B[39;00m n_arrays \u001B[38;5;241m==\u001B[39m \u001B[38;5;241m0\u001B[39m:\n\u001B[0;32m   2428\u001B[0m     \u001B[38;5;28;01mraise\u001B[39;00m \u001B[38;5;167;01mValueError\u001B[39;00m(\u001B[38;5;124m\"\u001B[39m\u001B[38;5;124mAt least one array required as input\u001B[39m\u001B[38;5;124m\"\u001B[39m)\n\u001B[1;32m-> 2430\u001B[0m arrays \u001B[38;5;241m=\u001B[39m \u001B[43mindexable\u001B[49m\u001B[43m(\u001B[49m\u001B[38;5;241;43m*\u001B[39;49m\u001B[43marrays\u001B[49m\u001B[43m)\u001B[49m\n\u001B[0;32m   2432\u001B[0m n_samples \u001B[38;5;241m=\u001B[39m _num_samples(arrays[\u001B[38;5;241m0\u001B[39m])\n\u001B[0;32m   2433\u001B[0m n_train, n_test \u001B[38;5;241m=\u001B[39m _validate_shuffle_split(\n\u001B[0;32m   2434\u001B[0m     n_samples, test_size, train_size, default_test_size\u001B[38;5;241m=\u001B[39m\u001B[38;5;241m0.25\u001B[39m\n\u001B[0;32m   2435\u001B[0m )\n",
      "File \u001B[1;32m~\\lib\\site-packages\\sklearn\\utils\\validation.py:433\u001B[0m, in \u001B[0;36mindexable\u001B[1;34m(*iterables)\u001B[0m\n\u001B[0;32m    414\u001B[0m \u001B[38;5;124;03m\"\"\"Make arrays indexable for cross-validation.\u001B[39;00m\n\u001B[0;32m    415\u001B[0m \n\u001B[0;32m    416\u001B[0m \u001B[38;5;124;03mChecks consistent length, passes through None, and ensures that everything\u001B[39;00m\n\u001B[1;32m   (...)\u001B[0m\n\u001B[0;32m    429\u001B[0m \u001B[38;5;124;03m    sparse matrix, or dataframe) or `None`.\u001B[39;00m\n\u001B[0;32m    430\u001B[0m \u001B[38;5;124;03m\"\"\"\u001B[39;00m\n\u001B[0;32m    432\u001B[0m result \u001B[38;5;241m=\u001B[39m [_make_indexable(X) \u001B[38;5;28;01mfor\u001B[39;00m X \u001B[38;5;129;01min\u001B[39;00m iterables]\n\u001B[1;32m--> 433\u001B[0m \u001B[43mcheck_consistent_length\u001B[49m\u001B[43m(\u001B[49m\u001B[38;5;241;43m*\u001B[39;49m\u001B[43mresult\u001B[49m\u001B[43m)\u001B[49m\n\u001B[0;32m    434\u001B[0m \u001B[38;5;28;01mreturn\u001B[39;00m result\n",
      "File \u001B[1;32m~\\lib\\site-packages\\sklearn\\utils\\validation.py:387\u001B[0m, in \u001B[0;36mcheck_consistent_length\u001B[1;34m(*arrays)\u001B[0m\n\u001B[0;32m    385\u001B[0m uniques \u001B[38;5;241m=\u001B[39m np\u001B[38;5;241m.\u001B[39munique(lengths)\n\u001B[0;32m    386\u001B[0m \u001B[38;5;28;01mif\u001B[39;00m \u001B[38;5;28mlen\u001B[39m(uniques) \u001B[38;5;241m>\u001B[39m \u001B[38;5;241m1\u001B[39m:\n\u001B[1;32m--> 387\u001B[0m     \u001B[38;5;28;01mraise\u001B[39;00m \u001B[38;5;167;01mValueError\u001B[39;00m(\n\u001B[0;32m    388\u001B[0m         \u001B[38;5;124m\"\u001B[39m\u001B[38;5;124mFound input variables with inconsistent numbers of samples: \u001B[39m\u001B[38;5;132;01m%r\u001B[39;00m\u001B[38;5;124m\"\u001B[39m\n\u001B[0;32m    389\u001B[0m         \u001B[38;5;241m%\u001B[39m [\u001B[38;5;28mint\u001B[39m(l) \u001B[38;5;28;01mfor\u001B[39;00m l \u001B[38;5;129;01min\u001B[39;00m lengths]\n\u001B[0;32m    390\u001B[0m     )\n",
      "\u001B[1;31mValueError\u001B[0m: Found input variables with inconsistent numbers of samples: [712, 714]"
     ]
    }
   ],
   "source": [
    "from sklearn.model_selection import train_test_split\n",
    "x_train,y_train,x_test,y_test = train_test_split(df.drop(df.Survived),df.Survived,test_size=.2,random_state=42)"
   ],
   "metadata": {
    "collapsed": false,
    "pycharm": {
     "name": "#%%\n"
    }
   }
  },
  {
   "cell_type": "code",
   "execution_count": 49,
   "outputs": [
    {
     "name": "stdout",
     "output_type": "stream",
     "text": [
      "Python 3.10.5\n"
     ]
    }
   ],
   "source": [
    "!python --version\n"
   ],
   "metadata": {
    "collapsed": false,
    "pycharm": {
     "name": "#%%\n"
    }
   }
  },
  {
   "cell_type": "code",
   "execution_count": 55,
   "outputs": [
    {
     "data": {
      "text/plain": "    YearsExperience   Salary\n0               1.1  39343.0\n1               1.3  46205.0\n2               1.5  37731.0\n3               2.0  43525.0\n4               2.2  39891.0\n5               2.9  56642.0\n6               3.0  60150.0\n7               3.2  54445.0\n8               3.2  64445.0\n9               3.7  57189.0\n10              3.9  63218.0\n11              4.0  55794.0\n12              4.0  56957.0\n13              4.1  57081.0\n14              4.5  61111.0\n15              4.9  67938.0\n16              5.1  66029.0\n17              5.3  83088.0\n18              5.9  81363.0\n19              6.0  93940.0",
      "text/html": "<div>\n<style scoped>\n    .dataframe tbody tr th:only-of-type {\n        vertical-align: middle;\n    }\n\n    .dataframe tbody tr th {\n        vertical-align: top;\n    }\n\n    .dataframe thead th {\n        text-align: right;\n    }\n</style>\n<table border=\"1\" class=\"dataframe\">\n  <thead>\n    <tr style=\"text-align: right;\">\n      <th></th>\n      <th>YearsExperience</th>\n      <th>Salary</th>\n    </tr>\n  </thead>\n  <tbody>\n    <tr>\n      <th>0</th>\n      <td>1.1</td>\n      <td>39343.0</td>\n    </tr>\n    <tr>\n      <th>1</th>\n      <td>1.3</td>\n      <td>46205.0</td>\n    </tr>\n    <tr>\n      <th>2</th>\n      <td>1.5</td>\n      <td>37731.0</td>\n    </tr>\n    <tr>\n      <th>3</th>\n      <td>2.0</td>\n      <td>43525.0</td>\n    </tr>\n    <tr>\n      <th>4</th>\n      <td>2.2</td>\n      <td>39891.0</td>\n    </tr>\n    <tr>\n      <th>5</th>\n      <td>2.9</td>\n      <td>56642.0</td>\n    </tr>\n    <tr>\n      <th>6</th>\n      <td>3.0</td>\n      <td>60150.0</td>\n    </tr>\n    <tr>\n      <th>7</th>\n      <td>3.2</td>\n      <td>54445.0</td>\n    </tr>\n    <tr>\n      <th>8</th>\n      <td>3.2</td>\n      <td>64445.0</td>\n    </tr>\n    <tr>\n      <th>9</th>\n      <td>3.7</td>\n      <td>57189.0</td>\n    </tr>\n    <tr>\n      <th>10</th>\n      <td>3.9</td>\n      <td>63218.0</td>\n    </tr>\n    <tr>\n      <th>11</th>\n      <td>4.0</td>\n      <td>55794.0</td>\n    </tr>\n    <tr>\n      <th>12</th>\n      <td>4.0</td>\n      <td>56957.0</td>\n    </tr>\n    <tr>\n      <th>13</th>\n      <td>4.1</td>\n      <td>57081.0</td>\n    </tr>\n    <tr>\n      <th>14</th>\n      <td>4.5</td>\n      <td>61111.0</td>\n    </tr>\n    <tr>\n      <th>15</th>\n      <td>4.9</td>\n      <td>67938.0</td>\n    </tr>\n    <tr>\n      <th>16</th>\n      <td>5.1</td>\n      <td>66029.0</td>\n    </tr>\n    <tr>\n      <th>17</th>\n      <td>5.3</td>\n      <td>83088.0</td>\n    </tr>\n    <tr>\n      <th>18</th>\n      <td>5.9</td>\n      <td>81363.0</td>\n    </tr>\n    <tr>\n      <th>19</th>\n      <td>6.0</td>\n      <td>93940.0</td>\n    </tr>\n  </tbody>\n</table>\n</div>"
     },
     "execution_count": 55,
     "metadata": {},
     "output_type": "execute_result"
    }
   ],
   "source": [
    "df = pd.read_csv('https://raw.githubusercontent.com/ameer-fice/ai-vodafone/main/datasets/Salary_Data.csv')\n",
    "df.head(20)"
   ],
   "metadata": {
    "collapsed": false,
    "pycharm": {
     "name": "#%%\n"
    }
   }
  },
  {
   "cell_type": "code",
   "execution_count": 56,
   "outputs": [
    {
     "data": {
      "text/plain": "<Figure size 432x288 with 1 Axes>",
      "image/png": "[encoded data removed]"
     },
     "metadata": {
      "needs_background": "light"
     },
     "output_type": "display_data"
    }
   ],
   "source": [
    "plt.scatter(df['YearsExperience'],df['Salary'])\n",
    "plt.show()"
   ],
   "metadata": {
    "collapsed": false,
    "pycharm": {
     "name": "#%%\n"
    }
   }
  },
  {
   "cell_type": "code",
   "execution_count": 87,
   "outputs": [],
   "source": [
    "x = df.iloc[:,[0]].values\n",
    "y = df.iloc[:,1].values\n"
   ],
   "metadata": {
    "collapsed": false,
    "pycharm": {
     "name": "#%%\n"
    }
   }
  },
  {
   "cell_type": "code",
   "execution_count": 138,
   "outputs": [
    {
     "data": {
      "text/plain": "array([2.53187614, 1.9502924 , 1.9502924 , 1.9502924 , 2.53187614,\n       2.53187614, 2.53187614, 2.53187614, 1.9502924 , 1.9502924 ,\n       1.9502924 , 1.9502924 , 2.53187614, 2.53187614, 2.53187614,\n       1.9502924 , 2.53187614, 1.9502924 , 2.53187614, 1.9502924 ,\n       2.53187614, 1.9502924 , 1.9502924 , 1.9502924 , 2.53187614,\n       1.9502924 , 2.53187614, 2.53187614, 1.9502924 , 2.53187614,\n       2.53187614, 1.9502924 , 1.9502924 , 2.53187614, 2.53187614,\n       2.53187614, 1.9502924 , 2.53187614, 2.53187614, 1.9502924 ,\n       2.53187614, 2.53187614, 2.53187614, 1.9502924 , 1.9502924 ,\n       2.53187614, 2.53187614, 1.9502924 , 2.53187614, 2.53187614,\n       2.53187614, 2.53187614, 1.9502924 , 1.9502924 , 2.53187614,\n       1.9502924 , 1.9502924 , 2.53187614, 1.9502924 , 2.53187614,\n       2.53187614, 1.9502924 , 2.53187614, 2.53187614, 2.53187614,\n       1.9502924 , 1.9502924 , 2.53187614, 1.9502924 , 2.53187614,\n       2.53187614, 2.53187614, 2.53187614, 2.53187614, 1.9502924 ,\n       2.53187614, 2.53187614, 2.53187614, 1.9502924 , 1.9502924 ,\n       2.53187614, 1.9502924 , 1.9502924 , 2.53187614, 1.9502924 ,\n       1.9502924 , 2.53187614, 2.53187614, 1.9502924 , 2.53187614,\n       2.53187614, 2.53187614, 2.53187614, 2.53187614, 2.53187614,\n       2.53187614, 2.53187614, 1.9502924 , 1.9502924 , 2.53187614,\n       2.53187614, 2.53187614, 2.53187614, 2.53187614, 2.53187614,\n       2.53187614, 1.9502924 , 1.9502924 , 2.53187614, 1.9502924 ,\n       2.53187614, 2.53187614, 2.53187614, 2.53187614, 2.53187614,\n       2.53187614, 2.53187614, 2.53187614, 2.53187614, 2.53187614,\n       2.53187614, 2.53187614, 2.53187614, 1.9502924 , 2.53187614,\n       1.9502924 , 2.53187614, 1.9502924 , 1.9502924 , 2.53187614,\n       2.53187614, 2.53187614, 2.53187614, 1.9502924 , 2.53187614,\n       2.53187614, 1.9502924 , 2.53187614, 2.53187614, 2.53187614,\n       2.53187614, 1.9502924 , 1.9502924 , 2.53187614, 2.53187614,\n       2.53187614, 1.9502924 , 2.53187614, 2.53187614, 2.53187614,\n       2.53187614, 1.9502924 , 2.53187614, 2.53187614, 2.53187614,\n       2.53187614, 1.9502924 , 2.53187614, 2.53187614, 2.53187614,\n       2.53187614, 1.9502924 , 2.53187614, 2.53187614, 2.53187614,\n       1.9502924 , 1.9502924 , 2.53187614, 2.53187614, 2.53187614,\n       2.53187614, 2.53187614, 1.9502924 , 2.53187614, 2.53187614,\n       2.53187614, 2.53187614, 2.53187614, 2.53187614, 2.53187614,\n       2.53187614, 2.53187614, 2.53187614, 1.9502924 , 1.9502924 ,\n       2.53187614, 1.9502924 , 1.9502924 , 2.53187614, 2.53187614,\n       1.9502924 , 2.53187614, 1.9502924 , 1.9502924 , 1.9502924 ,\n       1.9502924 , 2.53187614, 2.53187614, 1.9502924 , 2.53187614,\n       2.53187614, 2.53187614, 2.53187614, 2.53187614, 1.9502924 ,\n       2.53187614, 2.53187614, 1.9502924 , 1.9502924 , 1.9502924 ,\n       2.53187614, 1.9502924 , 2.53187614, 2.53187614, 2.53187614,\n       1.9502924 , 1.9502924 , 2.53187614, 1.9502924 , 2.53187614,\n       1.9502924 , 2.53187614, 2.53187614, 2.53187614, 1.9502924 ,\n       2.53187614, 1.9502924 , 2.53187614, 2.53187614, 2.53187614,\n       1.9502924 , 2.53187614, 2.53187614, 1.9502924 , 2.53187614,\n       2.53187614, 2.53187614, 1.9502924 , 2.53187614, 2.53187614,\n       2.53187614, 1.9502924 , 2.53187614, 2.53187614, 2.53187614,\n       2.53187614, 2.53187614, 1.9502924 , 1.9502924 , 2.53187614,\n       2.53187614, 2.53187614, 2.53187614, 2.53187614, 2.53187614,\n       1.9502924 , 1.9502924 , 1.9502924 , 1.9502924 , 1.9502924 ,\n       2.53187614, 1.9502924 , 2.53187614, 2.53187614, 2.53187614,\n       2.53187614, 2.53187614, 1.9502924 , 1.9502924 , 1.9502924 ,\n       2.53187614, 1.9502924 , 1.9502924 , 2.53187614, 1.9502924 ,\n       1.9502924 , 2.53187614, 2.53187614, 2.53187614, 1.9502924 ,\n       2.53187614, 2.53187614, 2.53187614, 1.9502924 , 2.53187614,\n       2.53187614, 1.9502924 , 2.53187614, 1.9502924 , 1.9502924 ,\n       1.9502924 , 1.9502924 , 2.53187614, 2.53187614, 2.53187614,\n       2.53187614, 2.53187614, 2.53187614, 1.9502924 , 1.9502924 ,\n       1.9502924 , 1.9502924 , 2.53187614, 1.9502924 , 2.53187614,\n       1.9502924 , 1.9502924 , 1.9502924 , 2.53187614, 1.9502924 ,\n       1.9502924 , 1.9502924 , 2.53187614, 2.53187614, 2.53187614,\n       1.9502924 , 1.9502924 , 2.53187614, 1.9502924 , 1.9502924 ,\n       2.53187614, 2.53187614, 1.9502924 , 1.9502924 , 2.53187614,\n       1.9502924 , 2.53187614, 1.9502924 , 1.9502924 , 1.9502924 ,\n       1.9502924 , 2.53187614, 2.53187614, 2.53187614, 1.9502924 ,\n       2.53187614, 2.53187614, 1.9502924 , 1.9502924 , 2.53187614,\n       1.9502924 , 1.9502924 , 2.53187614, 2.53187614, 2.53187614,\n       1.9502924 , 1.9502924 , 1.9502924 , 1.9502924 , 2.53187614,\n       2.53187614, 2.53187614, 2.53187614, 2.53187614, 2.53187614,\n       2.53187614, 1.9502924 , 2.53187614, 1.9502924 , 1.9502924 ,\n       2.53187614, 2.53187614, 2.53187614, 2.53187614, 2.53187614,\n       2.53187614, 1.9502924 , 1.9502924 , 1.9502924 , 1.9502924 ,\n       1.9502924 , 2.53187614, 2.53187614, 2.53187614, 2.53187614,\n       1.9502924 , 1.9502924 , 2.53187614, 2.53187614, 2.53187614,\n       1.9502924 , 1.9502924 , 2.53187614, 1.9502924 , 2.53187614,\n       2.53187614, 2.53187614, 1.9502924 , 2.53187614, 1.9502924 ,\n       1.9502924 , 1.9502924 , 2.53187614, 1.9502924 , 1.9502924 ,\n       2.53187614, 2.53187614, 2.53187614, 2.53187614, 1.9502924 ,\n       1.9502924 , 2.53187614, 2.53187614, 2.53187614, 2.53187614,\n       2.53187614, 2.53187614, 1.9502924 , 2.53187614, 2.53187614,\n       2.53187614, 2.53187614, 1.9502924 , 2.53187614, 1.9502924 ,\n       2.53187614, 1.9502924 , 1.9502924 , 2.53187614, 2.53187614,\n       2.53187614, 2.53187614, 2.53187614, 2.53187614, 2.53187614,\n       2.53187614, 1.9502924 , 1.9502924 , 2.53187614, 1.9502924 ,\n       1.9502924 , 1.9502924 , 1.9502924 , 2.53187614, 2.53187614,\n       1.9502924 , 2.53187614, 1.9502924 , 2.53187614, 2.53187614,\n       1.9502924 , 2.53187614, 2.53187614, 1.9502924 , 1.9502924 ,\n       1.9502924 , 1.9502924 , 1.9502924 , 1.9502924 , 1.9502924 ,\n       2.53187614, 2.53187614, 2.53187614, 1.9502924 , 2.53187614,\n       1.9502924 , 2.53187614, 1.9502924 , 1.9502924 , 2.53187614,\n       1.9502924 , 2.53187614, 2.53187614, 2.53187614, 2.53187614,\n       2.53187614, 2.53187614, 2.53187614, 2.53187614, 1.9502924 ,\n       2.53187614, 2.53187614, 1.9502924 , 1.9502924 , 2.53187614,\n       2.53187614, 2.53187614, 2.53187614, 2.53187614, 1.9502924 ,\n       2.53187614, 2.53187614, 2.53187614, 1.9502924 , 1.9502924 ,\n       2.53187614, 1.9502924 , 2.53187614, 2.53187614, 1.9502924 ,\n       2.53187614, 2.53187614, 2.53187614, 2.53187614, 2.53187614,\n       2.53187614, 1.9502924 , 2.53187614, 2.53187614, 2.53187614,\n       2.53187614, 2.53187614, 2.53187614, 2.53187614, 1.9502924 ,\n       2.53187614, 1.9502924 , 1.9502924 , 2.53187614, 1.9502924 ,\n       1.9502924 , 2.53187614, 1.9502924 , 1.9502924 , 2.53187614,\n       2.53187614, 1.9502924 , 2.53187614, 1.9502924 , 2.53187614,\n       1.9502924 , 2.53187614, 2.53187614, 1.9502924 , 2.53187614,\n       2.53187614, 1.9502924 , 2.53187614, 2.53187614, 2.53187614,\n       1.9502924 , 2.53187614, 2.53187614, 1.9502924 , 2.53187614,\n       1.9502924 , 2.53187614, 1.9502924 , 2.53187614, 1.9502924 ,\n       1.9502924 , 2.53187614, 2.53187614, 1.9502924 , 2.53187614,\n       2.53187614, 1.9502924 , 1.9502924 , 2.53187614, 1.9502924 ,\n       1.9502924 , 2.53187614, 2.53187614, 1.9502924 , 1.9502924 ,\n       2.53187614, 1.9502924 , 2.53187614, 1.9502924 , 1.9502924 ,\n       2.53187614, 2.53187614, 2.53187614, 2.53187614, 2.53187614,\n       2.53187614, 2.53187614, 2.53187614, 2.53187614, 1.9502924 ,\n       1.9502924 , 1.9502924 , 1.9502924 , 1.9502924 , 2.53187614,\n       2.53187614, 1.9502924 , 1.9502924 , 2.53187614, 1.9502924 ,\n       1.9502924 , 1.9502924 , 2.53187614, 2.53187614, 2.53187614,\n       1.9502924 , 2.53187614, 1.9502924 , 2.53187614, 2.53187614,\n       2.53187614, 1.9502924 , 2.53187614, 2.53187614, 2.53187614,\n       2.53187614, 1.9502924 , 2.53187614, 2.53187614, 1.9502924 ,\n       1.9502924 , 2.53187614, 2.53187614, 2.53187614, 1.9502924 ,\n       2.53187614, 2.53187614, 1.9502924 , 1.9502924 , 1.9502924 ,\n       2.53187614, 2.53187614, 1.9502924 , 2.53187614, 2.53187614,\n       1.9502924 , 2.53187614, 2.53187614, 1.9502924 , 2.53187614,\n       2.53187614, 1.9502924 , 1.9502924 , 2.53187614, 2.53187614,\n       2.53187614, 2.53187614, 1.9502924 , 2.53187614, 2.53187614,\n       1.9502924 , 2.53187614, 1.9502924 , 2.53187614, 2.53187614,\n       1.9502924 , 2.53187614, 2.53187614, 2.53187614, 2.53187614,\n       2.53187614, 1.9502924 , 2.53187614, 1.9502924 , 1.9502924 ,\n       1.9502924 , 2.53187614, 1.9502924 , 2.53187614, 1.9502924 ,\n       2.53187614, 1.9502924 , 2.53187614, 1.9502924 , 2.53187614,\n       2.53187614, 2.53187614, 2.53187614, 2.53187614, 2.53187614,\n       1.9502924 , 2.53187614, 2.53187614, 2.53187614, 1.9502924 ,\n       2.53187614, 2.53187614, 2.53187614, 2.53187614, 1.9502924 ,\n       1.9502924 , 2.53187614, 2.53187614, 1.9502924 , 2.53187614,\n       2.53187614, 2.53187614, 1.9502924 , 2.53187614, 1.9502924 ,\n       2.53187614, 1.9502924 , 2.53187614, 2.53187614, 2.53187614,\n       2.53187614, 2.53187614, 2.53187614, 2.53187614, 1.9502924 ,\n       1.9502924 , 1.9502924 , 1.9502924 , 2.53187614, 2.53187614,\n       2.53187614, 2.53187614, 1.9502924 , 2.53187614, 2.53187614,\n       1.9502924 , 1.9502924 , 2.53187614, 2.53187614, 2.53187614,\n       2.53187614, 1.9502924 , 1.9502924 , 1.9502924 , 1.9502924 ,\n       1.9502924 , 2.53187614, 1.9502924 , 2.53187614, 2.53187614,\n       2.53187614, 1.9502924 , 1.9502924 , 2.53187614, 2.53187614,\n       1.9502924 , 2.53187614, 2.53187614, 2.53187614, 1.9502924 ,\n       2.53187614, 1.9502924 , 1.9502924 , 2.53187614, 2.53187614,\n       1.9502924 , 2.53187614, 2.53187614, 2.53187614, 2.53187614,\n       2.53187614, 2.53187614, 1.9502924 , 2.53187614, 2.53187614,\n       1.9502924 , 2.53187614, 1.9502924 , 2.53187614, 1.9502924 ,\n       2.53187614, 2.53187614, 1.9502924 , 2.53187614, 2.53187614,\n       1.9502924 , 1.9502924 , 2.53187614, 2.53187614, 1.9502924 ,\n       1.9502924 , 2.53187614, 2.53187614, 2.53187614, 1.9502924 ,\n       2.53187614, 2.53187614, 1.9502924 , 1.9502924 , 2.53187614,\n       1.9502924 , 2.53187614, 2.53187614, 2.53187614, 2.53187614,\n       2.53187614, 2.53187614, 2.53187614, 2.53187614, 1.9502924 ,\n       2.53187614, 2.53187614, 1.9502924 , 2.53187614, 1.9502924 ,\n       1.9502924 , 1.9502924 , 2.53187614, 2.53187614, 2.53187614,\n       2.53187614, 1.9502924 , 2.53187614, 1.9502924 , 2.53187614,\n       2.53187614, 2.53187614, 2.53187614, 2.53187614, 2.53187614,\n       2.53187614, 1.9502924 , 1.9502924 , 2.53187614, 2.53187614,\n       2.53187614, 1.9502924 , 1.9502924 , 1.9502924 , 1.9502924 ,\n       2.53187614, 2.53187614, 2.53187614, 2.53187614, 1.9502924 ,\n       2.53187614, 2.53187614, 2.53187614, 2.53187614, 2.53187614,\n       2.53187614, 2.53187614, 2.53187614, 2.53187614, 2.53187614,\n       1.9502924 , 1.9502924 , 2.53187614, 1.9502924 , 2.53187614,\n       2.53187614, 2.53187614, 1.9502924 , 1.9502924 , 1.9502924 ,\n       1.9502924 , 1.9502924 , 2.53187614, 2.53187614, 2.53187614,\n       1.9502924 , 2.53187614, 2.53187614, 1.9502924 , 1.9502924 ,\n       2.53187614, 2.53187614, 1.9502924 , 2.53187614, 2.53187614,\n       2.53187614, 2.53187614, 2.53187614, 2.53187614, 1.9502924 ,\n       2.53187614, 2.53187614, 2.53187614, 1.9502924 , 2.53187614,\n       1.9502924 , 1.9502924 , 1.9502924 , 1.9502924 , 2.53187614,\n       2.53187614, 2.53187614, 1.9502924 , 2.53187614, 2.53187614,\n       1.9502924 , 1.9502924 , 2.53187614, 2.53187614, 1.9502924 ,\n       2.53187614, 1.9502924 , 2.53187614, 2.53187614, 1.9502924 ,\n       1.9502924 , 2.53187614, 2.53187614, 2.53187614, 1.9502924 ,\n       1.9502924 , 2.53187614, 2.53187614, 2.53187614, 2.53187614,\n       2.53187614, 2.53187614, 1.9502924 , 2.53187614, 1.9502924 ,\n       2.53187614])"
     },
     "execution_count": 138,
     "metadata": {},
     "output_type": "execute_result"
    }
   ],
   "source": [
    "\n",
    "\n",
    "# Divide it into input and output\n",
    "x = df.iloc[:,[0]].values\n",
    "y = df.iloc[:,1].values\n",
    "\n",
    "# x (input) should  be in 2 dimension\n",
    "\n",
    "x.ndim\n",
    "# ValueError: Expected 2D array, got 1D array instead:\n",
    "\n",
    "from sklearn.linear_model import LinearRegression\n",
    "model = LinearRegression()\n",
    "#1. Fitting the model : Mapping input with output\n",
    "#2. Predict the values\n",
    "model.fit(x,y) # training your model\n",
    "y_pred = model.predict(x) # Testing your model\n",
    "y_pred"
   ],
   "metadata": {
    "collapsed": false,
    "pycharm": {
     "name": "#%%\n"
    }
   }
  },
  {
   "cell_type": "code",
   "execution_count": 94,
   "outputs": [
    {
     "name": "stdout",
     "output_type": "stream",
     "text": [
      "[9449.96232146]\n",
      "25792.20019866871\n"
     ]
    }
   ],
   "source": [
    "print(model.coef_)\n",
    "print(model.intercept_)"
   ],
   "metadata": {
    "collapsed": false,
    "pycharm": {
     "name": "#%%\n"
    }
   }
  },
  {
   "cell_type": "code",
   "execution_count": 96,
   "outputs": [
    {
     "data": {
      "text/plain": "<Figure size 432x288 with 1 Axes>",
      "image/png": "[encoded data removed]"
     },
     "metadata": {
      "needs_background": "light"
     },
     "output_type": "display_data"
    }
   ],
   "source": [
    "import matplotlib.pyplot as plt\n",
    "plt.scatter(df['YearsExperience'],df['Salary'])\n",
    "plt.plot(x,y_pred,c='r')\n",
    "for i in range(len(x)):\n",
    "  plt.plot([x[i],x[i]],[y[i],y_pred[i]],c='k',linestyle='--')\n",
    "plt.show()\n",
    "plt.show()"
   ],
   "metadata": {
    "collapsed": false,
    "pycharm": {
     "name": "#%%\n"
    }
   }
  },
  {
   "cell_type": "code",
   "execution_count": 98,
   "outputs": [
    {
     "name": "stdout",
     "output_type": "stream",
     "text": [
      "5592.043608760662\n",
      "0.9550206007551909\n"
     ]
    }
   ],
   "source": [
    "from sklearn.metrics import mean_squared_error,r2_score\n",
    "print(mean_squared_error(y_pred,y,squared=False))\n",
    "print(r2_score(y_pred,y))"
   ],
   "metadata": {
    "collapsed": false,
    "pycharm": {
     "name": "#%%\n"
    }
   }
  },
  {
   "cell_type": "code",
   "execution_count": 99,
   "outputs": [
    {
     "data": {
      "text/plain": "           Suburb             Address  Rooms Type      Price Method  \\\n0      Abbotsford       68 Studley St      2    h        NaN     SS   \n1      Abbotsford        85 Turner St      2    h  1480000.0      S   \n2      Abbotsford     25 Bloomburg St      2    h  1035000.0      S   \n3      Abbotsford  18/659 Victoria St      3    u        NaN     VB   \n4      Abbotsford        5 Charles St      3    h  1465000.0     SP   \n...           ...                 ...    ...  ...        ...    ...   \n34852  Yarraville         13 Burns St      4    h  1480000.0     PI   \n34853  Yarraville       29A Murray St      2    h   888000.0     SP   \n34854  Yarraville      147A Severn St      2    t   705000.0      S   \n34855  Yarraville    12/37 Stephen St      3    h  1140000.0     SP   \n34856  Yarraville    3 Tarrengower St      2    h  1020000.0     PI   \n\n             SellerG        Date  Distance  Postcode  ...  Bathroom  Car  \\\n0             Jellis   3/09/2016       2.5    3067.0  ...       1.0  1.0   \n1             Biggin   3/12/2016       2.5    3067.0  ...       1.0  1.0   \n2             Biggin   4/02/2016       2.5    3067.0  ...       1.0  0.0   \n3             Rounds   4/02/2016       2.5    3067.0  ...       2.0  1.0   \n4             Biggin   4/03/2017       2.5    3067.0  ...       2.0  0.0   \n...              ...         ...       ...       ...  ...       ...  ...   \n34852            Jas  24/02/2018       6.3    3013.0  ...       1.0  3.0   \n34853        Sweeney  24/02/2018       6.3    3013.0  ...       2.0  1.0   \n34854            Jas  24/02/2018       6.3    3013.0  ...       1.0  2.0   \n34855  hockingstuart  24/02/2018       6.3    3013.0  ...       NaN  NaN   \n34856             RW  24/02/2018       6.3    3013.0  ...       1.0  0.0   \n\n       Landsize  BuildingArea  YearBuilt               CouncilArea Lattitude  \\\n0         126.0           NaN        NaN        Yarra City Council -37.80140   \n1         202.0           NaN        NaN        Yarra City Council -37.79960   \n2         156.0          79.0     1900.0        Yarra City Council -37.80790   \n3           0.0           NaN        NaN        Yarra City Council -37.81140   \n4         134.0         150.0     1900.0        Yarra City Council -37.80930   \n...         ...           ...        ...                       ...       ...   \n34852     593.0           NaN        NaN  Maribyrnong City Council -37.81053   \n34853      98.0         104.0     2018.0  Maribyrnong City Council -37.81551   \n34854     220.0         120.0     2000.0  Maribyrnong City Council -37.82286   \n34855       NaN           NaN        NaN  Maribyrnong City Council       NaN   \n34856     250.0         103.0     1930.0  Maribyrnong City Council -37.81810   \n\n       Longtitude             Regionname Propertycount  \n0       144.99580  Northern Metropolitan        4019.0  \n1       144.99840  Northern Metropolitan        4019.0  \n2       144.99340  Northern Metropolitan        4019.0  \n3       145.01160  Northern Metropolitan        4019.0  \n4       144.99440  Northern Metropolitan        4019.0  \n...           ...                    ...           ...  \n34852   144.88467   Western Metropolitan        6543.0  \n34853   144.88826   Western Metropolitan        6543.0  \n34854   144.87856   Western Metropolitan        6543.0  \n34855         NaN   Western Metropolitan        6543.0  \n34856   144.89351   Western Metropolitan        6543.0  \n\n[34857 rows x 21 columns]",
      "text/html": "<div>\n<style scoped>\n    .dataframe tbody tr th:only-of-type {\n        vertical-align: middle;\n    }\n\n    .dataframe tbody tr th {\n        vertical-align: top;\n    }\n\n    .dataframe thead th {\n        text-align: right;\n    }\n</style>\n<table border=\"1\" class=\"dataframe\">\n  <thead>\n    <tr style=\"text-align: right;\">\n      <th></th>\n      <th>Suburb</th>\n      <th>Address</th>\n      <th>Rooms</th>\n      <th>Type</th>\n      <th>Price</th>\n      <th>Method</th>\n      <th>SellerG</th>\n      <th>Date</th>\n      <th>Distance</th>\n      <th>Postcode</th>\n      <th>...</th>\n      <th>Bathroom</th>\n      <th>Car</th>\n      <th>Landsize</th>\n      <th>BuildingArea</th>\n      <th>YearBuilt</th>\n      <th>CouncilArea</th>\n      <th>Lattitude</th>\n      <th>Longtitude</th>\n      <th>Regionname</th>\n      <th>Propertycount</th>\n    </tr>\n  </thead>\n  <tbody>\n    <tr>\n      <th>0</th>\n      <td>Abbotsford</td>\n      <td>68 Studley St</td>\n      <td>2</td>\n      <td>h</td>\n      <td>NaN</td>\n      <td>SS</td>\n      <td>Jellis</td>\n      <td>3/09/2016</td>\n      <td>2.5</td>\n      <td>3067.0</td>\n      <td>...</td>\n      <td>1.0</td>\n      <td>1.0</td>\n      <td>126.0</td>\n      <td>NaN</td>\n      <td>NaN</td>\n      <td>Yarra City Council</td>\n      <td>-37.80140</td>\n      <td>144.99580</td>\n      <td>Northern Metropolitan</td>\n      <td>4019.0</td>\n    </tr>\n    <tr>\n      <th>1</th>\n      <td>Abbotsford</td>\n      <td>85 Turner St</td>\n      <td>2</td>\n      <td>h</td>\n      <td>1480000.0</td>\n      <td>S</td>\n      <td>Biggin</td>\n      <td>3/12/2016</td>\n      <td>2.5</td>\n      <td>3067.0</td>\n      <td>...</td>\n      <td>1.0</td>\n      <td>1.0</td>\n      <td>202.0</td>\n      <td>NaN</td>\n      <td>NaN</td>\n      <td>Yarra City Council</td>\n      <td>-37.79960</td>\n      <td>144.99840</td>\n      <td>Northern Metropolitan</td>\n      <td>4019.0</td>\n    </tr>\n    <tr>\n      <th>2</th>\n      <td>Abbotsford</td>\n      <td>25 Bloomburg St</td>\n      <td>2</td>\n      <td>h</td>\n      <td>1035000.0</td>\n      <td>S</td>\n      <td>Biggin</td>\n      <td>4/02/2016</td>\n      <td>2.5</td>\n      <td>3067.0</td>\n      <td>...</td>\n      <td>1.0</td>\n      <td>0.0</td>\n      <td>156.0</td>\n      <td>79.0</td>\n      <td>1900.0</td>\n      <td>Yarra City Council</td>\n      <td>-37.80790</td>\n      <td>144.99340</td>\n      <td>Northern Metropolitan</td>\n      <td>4019.0</td>\n    </tr>\n    <tr>\n      <th>3</th>\n      <td>Abbotsford</td>\n      <td>18/659 Victoria St</td>\n      <td>3</td>\n      <td>u</td>\n      <td>NaN</td>\n      <td>VB</td>\n      <td>Rounds</td>\n      <td>4/02/2016</td>\n      <td>2.5</td>\n      <td>3067.0</td>\n      <td>...</td>\n      <td>2.0</td>\n      <td>1.0</td>\n      <td>0.0</td>\n      <td>NaN</td>\n      <td>NaN</td>\n      <td>Yarra City Council</td>\n      <td>-37.81140</td>\n      <td>145.01160</td>\n      <td>Northern Metropolitan</td>\n      <td>4019.0</td>\n    </tr>\n    <tr>\n      <th>4</th>\n      <td>Abbotsford</td>\n      <td>5 Charles St</td>\n      <td>3</td>\n      <td>h</td>\n      <td>1465000.0</td>\n      <td>SP</td>\n      <td>Biggin</td>\n      <td>4/03/2017</td>\n      <td>2.5</td>\n      <td>3067.0</td>\n      <td>...</td>\n      <td>2.0</td>\n      <td>0.0</td>\n      <td>134.0</td>\n      <td>150.0</td>\n      <td>1900.0</td>\n      <td>Yarra City Council</td>\n      <td>-37.80930</td>\n      <td>144.99440</td>\n      <td>Northern Metropolitan</td>\n      <td>4019.0</td>\n    </tr>\n    <tr>\n      <th>...</th>\n      <td>...</td>\n      <td>...</td>\n      <td>...</td>\n      <td>...</td>\n      <td>...</td>\n      <td>...</td>\n      <td>...</td>\n      <td>...</td>\n      <td>...</td>\n      <td>...</td>\n      <td>...</td>\n      <td>...</td>\n      <td>...</td>\n      <td>...</td>\n      <td>...</td>\n      <td>...</td>\n      <td>...</td>\n      <td>...</td>\n      <td>...</td>\n      <td>...</td>\n      <td>...</td>\n    </tr>\n    <tr>\n      <th>34852</th>\n      <td>Yarraville</td>\n      <td>13 Burns St</td>\n      <td>4</td>\n      <td>h</td>\n      <td>1480000.0</td>\n      <td>PI</td>\n      <td>Jas</td>\n      <td>24/02/2018</td>\n      <td>6.3</td>\n      <td>3013.0</td>\n      <td>...</td>\n      <td>1.0</td>\n      <td>3.0</td>\n      <td>593.0</td>\n      <td>NaN</td>\n      <td>NaN</td>\n      <td>Maribyrnong City Council</td>\n      <td>-37.81053</td>\n      <td>144.88467</td>\n      <td>Western Metropolitan</td>\n      <td>6543.0</td>\n    </tr>\n    <tr>\n      <th>34853</th>\n      <td>Yarraville</td>\n      <td>29A Murray St</td>\n      <td>2</td>\n      <td>h</td>\n      <td>888000.0</td>\n      <td>SP</td>\n      <td>Sweeney</td>\n      <td>24/02/2018</td>\n      <td>6.3</td>\n      <td>3013.0</td>\n      <td>...</td>\n      <td>2.0</td>\n      <td>1.0</td>\n      <td>98.0</td>\n      <td>104.0</td>\n      <td>2018.0</td>\n      <td>Maribyrnong City Council</td>\n      <td>-37.81551</td>\n      <td>144.88826</td>\n      <td>Western Metropolitan</td>\n      <td>6543.0</td>\n    </tr>\n    <tr>\n      <th>34854</th>\n      <td>Yarraville</td>\n      <td>147A Severn St</td>\n      <td>2</td>\n      <td>t</td>\n      <td>705000.0</td>\n      <td>S</td>\n      <td>Jas</td>\n      <td>24/02/2018</td>\n      <td>6.3</td>\n      <td>3013.0</td>\n      <td>...</td>\n      <td>1.0</td>\n      <td>2.0</td>\n      <td>220.0</td>\n      <td>120.0</td>\n      <td>2000.0</td>\n      <td>Maribyrnong City Council</td>\n      <td>-37.82286</td>\n      <td>144.87856</td>\n      <td>Western Metropolitan</td>\n      <td>6543.0</td>\n    </tr>\n    <tr>\n      <th>34855</th>\n      <td>Yarraville</td>\n      <td>12/37 Stephen St</td>\n      <td>3</td>\n      <td>h</td>\n      <td>1140000.0</td>\n      <td>SP</td>\n      <td>hockingstuart</td>\n      <td>24/02/2018</td>\n      <td>6.3</td>\n      <td>3013.0</td>\n      <td>...</td>\n      <td>NaN</td>\n      <td>NaN</td>\n      <td>NaN</td>\n      <td>NaN</td>\n      <td>NaN</td>\n      <td>Maribyrnong City Council</td>\n      <td>NaN</td>\n      <td>NaN</td>\n      <td>Western Metropolitan</td>\n      <td>6543.0</td>\n    </tr>\n    <tr>\n      <th>34856</th>\n      <td>Yarraville</td>\n      <td>3 Tarrengower St</td>\n      <td>2</td>\n      <td>h</td>\n      <td>1020000.0</td>\n      <td>PI</td>\n      <td>RW</td>\n      <td>24/02/2018</td>\n      <td>6.3</td>\n      <td>3013.0</td>\n      <td>...</td>\n      <td>1.0</td>\n      <td>0.0</td>\n      <td>250.0</td>\n      <td>103.0</td>\n      <td>1930.0</td>\n      <td>Maribyrnong City Council</td>\n      <td>-37.81810</td>\n      <td>144.89351</td>\n      <td>Western Metropolitan</td>\n      <td>6543.0</td>\n    </tr>\n  </tbody>\n</table>\n<p>34857 rows × 21 columns</p>\n</div>"
     },
     "execution_count": 99,
     "metadata": {},
     "output_type": "execute_result"
    }
   ],
   "source": [
    "df = pd.read_csv('https://raw.githubusercontent.com/ameer-aiml/ai-vodafone/main/datasets/Melbourne_housing_FULL.csv')\n",
    "df.head()\n",
    "df"
   ],
   "metadata": {
    "collapsed": false,
    "pycharm": {
     "name": "#%%\n"
    }
   }
  },
  {
   "cell_type": "code",
   "execution_count": 137,
   "outputs": [
    {
     "name": "stdout",
     "output_type": "stream",
     "text": [
      "(891, 4)\n",
      "\n",
      "\n",
      "<class 'pandas.core.frame.DataFrame'>\n",
      "RangeIndex: 891 entries, 0 to 890\n",
      "Data columns (total 4 columns):\n",
      " #   Column    Non-Null Count  Dtype  \n",
      "---  ------    --------------  -----  \n",
      " 0   Survived  891 non-null    int64  \n",
      " 1   Pclass    891 non-null    int64  \n",
      " 2   Sex       891 non-null    object \n",
      " 3   Age       714 non-null    float64\n",
      "dtypes: float64(1), int64(2), object(1)\n",
      "memory usage: 28.0+ KB\n",
      "None\n",
      "\n",
      "\n",
      "Survived     2\n",
      "Pclass       3\n",
      "Sex          2\n",
      "Age         88\n",
      "dtype: int64\n"
     ]
    }
   ],
   "source": [
    "print(df.shape)\n",
    "print('\\n')\n",
    "print(df.info())\n",
    "print('\\n')\n",
    "print(df.nunique())\n",
    "num_col = df.dtypes[df.dtypes!='object'].index.values\n",
    "cat_col = df.dtypes[df.dtypes=='object'].index.values\n",
    "cat_col\n",
    "num_col\n",
    "df[cat_col].nunique()\n",
    "for col in cat_col:\n",
    "  if df[col].nunique() >50:\n",
    "    df = df.drop(col,axis=1)"
   ],
   "metadata": {
    "collapsed": false,
    "pycharm": {
     "name": "#%%\n"
    }
   }
  },
  {
   "cell_type": "code",
   "execution_count": 136,
   "outputs": [],
   "source": [],
   "metadata": {
    "collapsed": false,
    "pycharm": {
     "name": "#%%\n"
    }
   }
  },
  {
   "cell_type": "code",
   "execution_count": 140,
   "outputs": [
    {
     "ename": "NameError",
     "evalue": "name 'x_train' is not defined",
     "output_type": "error",
     "traceback": [
      "\u001B[1;31m---------------------------------------------------------------------------\u001B[0m",
      "\u001B[1;31mNameError\u001B[0m                                 Traceback (most recent call last)",
      "Input \u001B[1;32mIn [140]\u001B[0m, in \u001B[0;36m<cell line: 4>\u001B[1;34m()\u001B[0m\n\u001B[0;32m      2\u001B[0m \u001B[38;5;28;01mfrom\u001B[39;00m \u001B[38;5;21;01msklearn\u001B[39;00m\u001B[38;5;21;01m.\u001B[39;00m\u001B[38;5;21;01mpreprocessing\u001B[39;00m \u001B[38;5;28;01mimport\u001B[39;00m MinMaxScaler\n\u001B[0;32m      3\u001B[0m scaler \u001B[38;5;241m=\u001B[39m MinMaxScaler()\n\u001B[1;32m----> 4\u001B[0m x_train \u001B[38;5;241m=\u001B[39m scaler\u001B[38;5;241m.\u001B[39mfit_transform(\u001B[43mx_train\u001B[49m)\n\u001B[0;32m      5\u001B[0m x_test \u001B[38;5;241m=\u001B[39m scaler\u001B[38;5;241m.\u001B[39mtransform(x_test)\n\u001B[0;32m      6\u001B[0m \u001B[38;5;28;01mfrom\u001B[39;00m \u001B[38;5;21;01msklearn\u001B[39;00m\u001B[38;5;21;01m.\u001B[39;00m\u001B[38;5;21;01mlinear_model\u001B[39;00m \u001B[38;5;28;01mimport\u001B[39;00m LogisticRegression\n",
      "\u001B[1;31mNameError\u001B[0m: name 'x_train' is not defined"
     ]
    }
   ],
   "source": [
    " #Normalization: Scaling in the range of (0-1)\n",
    "from sklearn.preprocessing import MinMaxScaler\n",
    "scaler = MinMaxScaler()\n",
    "x_train = scaler.fit_transform(x_train)\n",
    "x_test = scaler.transform(x_test)\n",
    "from sklearn.linear_model import LogisticRegression\n",
    "model = LogisticRegression()\n",
    "model.fit(x_train,y_train)\n",
    "y_pred = model.predict(x_test)\n",
    "y_pred"
   ],
   "metadata": {
    "collapsed": false,
    "pycharm": {
     "name": "#%%\n"
    }
   }
  },
  {
   "cell_type": "code",
   "execution_count": null,
   "outputs": [],
   "source": [],
   "metadata": {
    "collapsed": false,
    "pycharm": {
     "name": "#%%\n"
    }
   }
  }
 ],
 "metadata": {
  "kernelspec": {
   "display_name": "Python 3",
   "language": "python",
   "name": "python3"
  },
  "language_info": {
   "codemirror_mode": {
    "name": "ipython",
    "version": 2
   },
   "file_extension": ".py",
   "mimetype": "text/x-python",
   "name": "python",
   "nbconvert_exporter": "python",
   "pygments_lexer": "ipython2",
   "version": "2.7.6"
  }
 },
 "nbformat": 4,
 "nbformat_minor": 0
}